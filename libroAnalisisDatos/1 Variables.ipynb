{
 "cells": [
  {
   "cell_type": "code",
   "execution_count": null,
   "id": "ba07c15f-652c-4e47-b2d5-b4fca863446f",
   "metadata": {},
   "outputs": [],
   "source": []
  }
 ],
 "metadata": {
  "kernelspec": {
   "display_name": "",
   "name": ""
  },
  "language_info": {
   "name": ""
  }
 },
 "nbformat": 4,
 "nbformat_minor": 5
}
