{
 "cells": [
  {
   "cell_type": "code",
   "execution_count": null,
   "id": "dac1b4df-7d8c-4a4a-bbc5-78686f3953e0",
   "metadata": {},
   "outputs": [],
   "source": [
    "## cuaderno para hacer ejemplos del libro\n"
   ]
  }
 ],
 "metadata": {
  "kernelspec": {
   "display_name": "Python 3 (ipykernel)",
   "language": "python",
   "name": "python3"
  },
  "language_info": {
   "codemirror_mode": {
    "name": "ipython",
    "version": 3
   },
   "file_extension": ".py",
   "mimetype": "text/x-python",
   "name": "python",
   "nbconvert_exporter": "python",
   "pygments_lexer": "ipython3",
   "version": "3.12.7"
  }
 },
 "nbformat": 4,
 "nbformat_minor": 5
}
