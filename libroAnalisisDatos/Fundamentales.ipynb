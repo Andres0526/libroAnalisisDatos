{
 "cells": [
  {
   "cell_type": "markdown",
   "id": "5cec85e8-ef95-4425-aa11-1ac9190e5aef",
   "metadata": {},
   "source": [
    "# Caracteristicas  del lenguaje\n",
    "## cuaderno para hacer ejemplos del libro\n"
   ]
  },
  {
   "cell_type": "code",
   "execution_count": 2,
   "id": "236d2fd2-0a22-4f85-9525-544735b2f8f4",
   "metadata": {},
   "outputs": [
    {
     "data": {
      "text/plain": [
       "\u001b[1;31mType:\u001b[0m        int\n",
       "\u001b[1;31mString form:\u001b[0m 10\n",
       "\u001b[1;31mDocstring:\u001b[0m  \n",
       "int([x]) -> integer\n",
       "int(x, base=10) -> integer\n",
       "\n",
       "Convert a number or string to an integer, or return 0 if no arguments\n",
       "are given.  If x is a number, return x.__int__().  For floating-point\n",
       "numbers, this truncates towards zero.\n",
       "\n",
       "If x is not a number or if base is given, then x must be a string,\n",
       "bytes, or bytearray instance representing an integer literal in the\n",
       "given base.  The literal can be preceded by '+' or '-' and be surrounded\n",
       "by whitespace.  The base defaults to 10.  Valid bases are 0 and 2-36.\n",
       "Base 0 means to interpret the base from the string as an integer literal.\n",
       ">>> int('0b100', base=0)\n",
       "4"
      ]
     },
     "metadata": {},
     "output_type": "display_data"
    }
   ],
   "source": [
    "# introspeccion\n",
    "# al usar ? se puede  ver cracteristicas del objeto / variable\n",
    "a = 10\n",
    "a?"
   ]
  },
  {
   "cell_type": "code",
   "execution_count": 3,
   "id": "9b2f791e-7502-470c-9246-eded3ba54171",
   "metadata": {},
   "outputs": [
    {
     "data": {
      "text/plain": [
       "a.__getattribute__\n",
       "a.__init_subclass__\n",
       "a.__mul__\n",
       "a.__reduce__\n",
       "a.__reduce_ex__\n",
       "a.__rmul__\n",
       "a.__round__\n",
       "a.__rsub__\n",
       "a.__rtruediv__\n",
       "a.__sub__\n",
       "a.__subclasshook__\n",
       "a.__truediv__\n",
       "a.__trunc__\n",
       "a.bit_count\n",
       "a.conjugate\n",
       "a.numerator"
      ]
     },
     "metadata": {},
     "output_type": "display_data"
    }
   ],
   "source": [
    "# tambien se pueden buscar los atributos al usar * en conjunto con ?\n",
    "a.*u*?"
   ]
  },
  {
   "cell_type": "code",
   "execution_count": 8,
   "id": "89c2a6bb-2324-47a5-80fe-8a134af3ac1c",
   "metadata": {},
   "outputs": [
    {
     "name": "stdout",
     "output_type": "stream",
     "text": [
      "las variable a es =  10  y su tipo es:  <class 'int'>\n",
      "las variable a es =  True  y su tipo es:  <class 'bool'>\n"
     ]
    }
   ],
   "source": [
    "# se debe tomar en cuanta que el tipo de variable se asigna en python con el valor  que se asigne y esta variabla no queda pegada a ese tipo de dato, ejemplo\n",
    "a=10\n",
    "print( \"las variable a es = \", a , \" y su tipo es: \", type(a))\n",
    "a = True\n",
    "print( \"las variable a es = \", a , \" y su tipo es: \", type(a))"
   ]
  },
  {
   "cell_type": "code",
   "execution_count": null,
   "id": "288075f4-bf43-4ee0-81e5-54d42a44597c",
   "metadata": {},
   "outputs": [],
   "source": [
    "# pagina 50"
   ]
  }
 ],
 "metadata": {
  "kernelspec": {
   "display_name": "Python 3 (ipykernel)",
   "language": "python",
   "name": "python3"
  },
  "language_info": {
   "codemirror_mode": {
    "name": "ipython",
    "version": 3
   },
   "file_extension": ".py",
   "mimetype": "text/x-python",
   "name": "python",
   "nbconvert_exporter": "python",
   "pygments_lexer": "ipython3",
   "version": "3.12.7"
  }
 },
 "nbformat": 4,
 "nbformat_minor": 5
}
